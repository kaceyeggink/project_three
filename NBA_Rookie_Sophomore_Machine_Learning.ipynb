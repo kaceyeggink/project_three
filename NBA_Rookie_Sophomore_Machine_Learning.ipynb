{
 "cells": [
  {
   "cell_type": "code",
   "execution_count": 1,
   "metadata": {},
   "outputs": [],
   "source": [
    "%matplotlib inline\n",
    "import matplotlib.pyplot as plt\n",
    "import numpy as np\n",
    "import pandas as pd\n",
    "from sklearn.linear_model import LinearRegression\n",
    "from sklearn.metrics import mean_squared_error, r2_score"
   ]
  },
  {
   "cell_type": "code",
   "execution_count": 2,
   "metadata": {},
   "outputs": [],
   "source": [
    "# Read the csv file into a pandas DataFrame\n",
    "\n",
    "training_df = pd.read_csv('Resources/2015-18_training_dataset.csv')\n",
    "training_df.dropna(inplace=True)"
   ]
  },
  {
   "cell_type": "code",
   "execution_count": 3,
   "metadata": {},
   "outputs": [],
   "source": [
    "# Assign the data to X and y\n",
    "X = training_df[['Y1-STL_per36', 'Y1-PTS_per36', 'Y1-AST_per36', 'Y1-TS%', 'Y1-BLK_per36', 'Y1-TRB_per36']]\n",
    "y = training_df['Y2-BPM']"
   ]
  },
  {
   "cell_type": "code",
   "execution_count": 4,
   "metadata": {
    "nbgrader": {
     "grade": false,
     "grade_id": "cell-c28431477001b4ca",
     "locked": false,
     "schema_version": 1,
     "solution": true
    }
   },
   "outputs": [],
   "source": [
    "# Create the model\n",
    "model = LinearRegression()"
   ]
  },
  {
   "cell_type": "code",
   "execution_count": 5,
   "metadata": {
    "nbgrader": {
     "grade": false,
     "grade_id": "cell-cf45418a342b12fd",
     "locked": false,
     "schema_version": 1,
     "solution": true
    }
   },
   "outputs": [
    {
     "data": {
      "text/plain": [
       "LinearRegression(copy_X=True, fit_intercept=True, n_jobs=None, normalize=False)"
      ]
     },
     "execution_count": 5,
     "metadata": {},
     "output_type": "execute_result"
    }
   ],
   "source": [
    "# Fit the model to the training data. \n",
    "model.fit(X, y)"
   ]
  },
  {
   "cell_type": "code",
   "execution_count": 6,
   "metadata": {},
   "outputs": [],
   "source": [
    "y_pred = model.predict(X)"
   ]
  },
  {
   "cell_type": "code",
   "execution_count": 7,
   "metadata": {},
   "outputs": [
    {
     "name": "stdout",
     "output_type": "stream",
     "text": [
      "Mean Squared Error (MSE): 5.557129324098729\n",
      "R-squared (R2 ): 0.26144699292223195\n"
     ]
    }
   ],
   "source": [
    "# Score the predictions with mse and r2\n",
    "mse = mean_squared_error(y, y_pred)\n",
    "r2 = r2_score(y, y_pred)\n",
    "\n",
    "print(f\"Mean Squared Error (MSE): {mse}\")\n",
    "print(f\"R-squared (R2 ): {r2}\")"
   ]
  },
  {
   "cell_type": "code",
   "execution_count": 8,
   "metadata": {},
   "outputs": [
    {
     "data": {
      "text/plain": [
       "array([-2.70326325,  0.97701103, -2.54956417, -1.48776744, -2.36629028,\n",
       "       -1.97802768, -1.31658629, -2.86913494, -2.8156245 , -2.14065873,\n",
       "       -1.76328684, -3.07478638,  1.1172953 , -1.77504163, -2.88121638,\n",
       "       -1.84300495,  0.83783096, -2.25695969, -2.62381438, -1.75762921,\n",
       "       -3.73443281, -0.6700954 ,  0.10890489,  0.46162618, -2.58116394,\n",
       "       -1.48941809, -0.75269905, -3.44815236, -3.47210547, -2.44340815,\n",
       "       -4.3739314 , -1.53293554, -2.0615163 , -2.32877148])"
      ]
     },
     "execution_count": 8,
     "metadata": {},
     "output_type": "execute_result"
    }
   ],
   "source": [
    "predict_df = pd.read_csv('Resources/current_rookies_test_data.csv')\n",
    "predict_df.dropna(inplace=True)\n",
    "predict_df\n",
    "X2 = predict_df[['Y1-STL_per36', 'Y1-PTS_per36', 'Y1-AST_per36', 'Y1-TS%', 'Y1-BLK_per36', 'Y1-TRB_per36']]\n",
    "y2 = predict_df['Y2-BPM']\n",
    "\n",
    "y_pred2 = model.predict(X2)\n",
    "y_pred2\n",
    "\n",
    "#mse = mean_squared_error(y2, y_pred2)\n",
    "#r2 = r2_score(y2, y_pred2)\n",
    "\n",
    "#print(f\"Mean Squared Error (MSE): {mse}\")\n",
    "#print(f\"R-squared (R2 ): {r2}\")\n"
   ]
  },
  {
   "cell_type": "code",
   "execution_count": 9,
   "metadata": {},
   "outputs": [],
   "source": [
    "predict_df['Predict-Y2-BPM'] = y_pred2"
   ]
  },
  {
   "cell_type": "code",
   "execution_count": 10,
   "metadata": {},
   "outputs": [
    {
     "data": {
      "text/html": [
       "<div>\n",
       "<style scoped>\n",
       "    .dataframe tbody tr th:only-of-type {\n",
       "        vertical-align: middle;\n",
       "    }\n",
       "\n",
       "    .dataframe tbody tr th {\n",
       "        vertical-align: top;\n",
       "    }\n",
       "\n",
       "    .dataframe thead th {\n",
       "        text-align: right;\n",
       "    }\n",
       "</style>\n",
       "<table border=\"1\" class=\"dataframe\">\n",
       "  <thead>\n",
       "    <tr style=\"text-align: right;\">\n",
       "      <th></th>\n",
       "      <th>Player</th>\n",
       "      <th>Y1-BPM</th>\n",
       "      <th>Predict-Y2-BPM</th>\n",
       "    </tr>\n",
       "  </thead>\n",
       "  <tbody>\n",
       "    <tr>\n",
       "      <td>0</td>\n",
       "      <td>De'Andre Hunter</td>\n",
       "      <td>-4.7</td>\n",
       "      <td>-2.7</td>\n",
       "    </tr>\n",
       "    <tr>\n",
       "      <td>1</td>\n",
       "      <td>Ja Morant</td>\n",
       "      <td>0.2</td>\n",
       "      <td>1.0</td>\n",
       "    </tr>\n",
       "    <tr>\n",
       "      <td>2</td>\n",
       "      <td>Darius Garland</td>\n",
       "      <td>-5.6</td>\n",
       "      <td>-2.5</td>\n",
       "    </tr>\n",
       "    <tr>\n",
       "      <td>3</td>\n",
       "      <td>P.J. Washington</td>\n",
       "      <td>-1.6</td>\n",
       "      <td>-1.5</td>\n",
       "    </tr>\n",
       "    <tr>\n",
       "      <td>4</td>\n",
       "      <td>RJ Barrett</td>\n",
       "      <td>-4.3</td>\n",
       "      <td>-2.4</td>\n",
       "    </tr>\n",
       "    <tr>\n",
       "      <td>5</td>\n",
       "      <td>Coby White</td>\n",
       "      <td>-2.8</td>\n",
       "      <td>-2.0</td>\n",
       "    </tr>\n",
       "    <tr>\n",
       "      <td>6</td>\n",
       "      <td>Eric Paschall</td>\n",
       "      <td>-2.7</td>\n",
       "      <td>-1.3</td>\n",
       "    </tr>\n",
       "    <tr>\n",
       "      <td>7</td>\n",
       "      <td>Cam Reddish</td>\n",
       "      <td>-4.2</td>\n",
       "      <td>-2.9</td>\n",
       "    </tr>\n",
       "    <tr>\n",
       "      <td>8</td>\n",
       "      <td>Jarrett Culver</td>\n",
       "      <td>-4.0</td>\n",
       "      <td>-2.8</td>\n",
       "    </tr>\n",
       "    <tr>\n",
       "      <td>9</td>\n",
       "      <td>Tyler Herro</td>\n",
       "      <td>-2.2</td>\n",
       "      <td>-2.1</td>\n",
       "    </tr>\n",
       "    <tr>\n",
       "      <td>10</td>\n",
       "      <td>Rui Hachimura</td>\n",
       "      <td>-3.1</td>\n",
       "      <td>-1.8</td>\n",
       "    </tr>\n",
       "    <tr>\n",
       "      <td>11</td>\n",
       "      <td>Jordan Poole</td>\n",
       "      <td>-6.6</td>\n",
       "      <td>-3.1</td>\n",
       "    </tr>\n",
       "    <tr>\n",
       "      <td>12</td>\n",
       "      <td>Brandon Clarke</td>\n",
       "      <td>3.4</td>\n",
       "      <td>1.1</td>\n",
       "    </tr>\n",
       "    <tr>\n",
       "      <td>13</td>\n",
       "      <td>Kevin Porter</td>\n",
       "      <td>-3.7</td>\n",
       "      <td>-1.8</td>\n",
       "    </tr>\n",
       "    <tr>\n",
       "      <td>14</td>\n",
       "      <td>Matisse Thybulle</td>\n",
       "      <td>0.1</td>\n",
       "      <td>-2.9</td>\n",
       "    </tr>\n",
       "    <tr>\n",
       "      <td>15</td>\n",
       "      <td>Cameron Johnson</td>\n",
       "      <td>0.0</td>\n",
       "      <td>-1.8</td>\n",
       "    </tr>\n",
       "    <tr>\n",
       "      <td>16</td>\n",
       "      <td>Jaxson Hayes</td>\n",
       "      <td>-0.1</td>\n",
       "      <td>0.8</td>\n",
       "    </tr>\n",
       "    <tr>\n",
       "      <td>17</td>\n",
       "      <td>Grant Williams</td>\n",
       "      <td>-2.7</td>\n",
       "      <td>-2.3</td>\n",
       "    </tr>\n",
       "    <tr>\n",
       "      <td>18</td>\n",
       "      <td>Darius Bazley</td>\n",
       "      <td>-2.3</td>\n",
       "      <td>-2.6</td>\n",
       "    </tr>\n",
       "    <tr>\n",
       "      <td>19</td>\n",
       "      <td>Cody Martin</td>\n",
       "      <td>-2.1</td>\n",
       "      <td>-1.8</td>\n",
       "    </tr>\n",
       "    <tr>\n",
       "      <td>20</td>\n",
       "      <td>Sekou Doumbouya</td>\n",
       "      <td>-6.7</td>\n",
       "      <td>-3.7</td>\n",
       "    </tr>\n",
       "    <tr>\n",
       "      <td>21</td>\n",
       "      <td>Bruno Fernando</td>\n",
       "      <td>-4.1</td>\n",
       "      <td>-0.7</td>\n",
       "    </tr>\n",
       "    <tr>\n",
       "      <td>22</td>\n",
       "      <td>Zion Williamson</td>\n",
       "      <td>2.0</td>\n",
       "      <td>0.1</td>\n",
       "    </tr>\n",
       "    <tr>\n",
       "      <td>23</td>\n",
       "      <td>Daniel Gafford</td>\n",
       "      <td>-1.3</td>\n",
       "      <td>0.5</td>\n",
       "    </tr>\n",
       "    <tr>\n",
       "      <td>24</td>\n",
       "      <td>Nassir Little</td>\n",
       "      <td>-3.5</td>\n",
       "      <td>-2.6</td>\n",
       "    </tr>\n",
       "    <tr>\n",
       "      <td>25</td>\n",
       "      <td>Nickeil Alexander-Walker</td>\n",
       "      <td>-4.0</td>\n",
       "      <td>-1.5</td>\n",
       "    </tr>\n",
       "    <tr>\n",
       "      <td>26</td>\n",
       "      <td>Goga Bitadze</td>\n",
       "      <td>-2.5</td>\n",
       "      <td>-0.8</td>\n",
       "    </tr>\n",
       "    <tr>\n",
       "      <td>27</td>\n",
       "      <td>Admiral Schofield</td>\n",
       "      <td>-5.8</td>\n",
       "      <td>-3.4</td>\n",
       "    </tr>\n",
       "    <tr>\n",
       "      <td>28</td>\n",
       "      <td>Carsen Edwards</td>\n",
       "      <td>-4.9</td>\n",
       "      <td>-3.5</td>\n",
       "    </tr>\n",
       "    <tr>\n",
       "      <td>29</td>\n",
       "      <td>Ty Jerome</td>\n",
       "      <td>-3.8</td>\n",
       "      <td>-2.4</td>\n",
       "    </tr>\n",
       "    <tr>\n",
       "      <td>30</td>\n",
       "      <td>Romeo Langford</td>\n",
       "      <td>-4.6</td>\n",
       "      <td>-4.4</td>\n",
       "    </tr>\n",
       "    <tr>\n",
       "      <td>31</td>\n",
       "      <td>Jalen McDaniels</td>\n",
       "      <td>-3.3</td>\n",
       "      <td>-1.5</td>\n",
       "    </tr>\n",
       "    <tr>\n",
       "      <td>32</td>\n",
       "      <td>Terance Mann</td>\n",
       "      <td>-3.4</td>\n",
       "      <td>-2.1</td>\n",
       "    </tr>\n",
       "    <tr>\n",
       "      <td>33</td>\n",
       "      <td>Justin James</td>\n",
       "      <td>-0.7</td>\n",
       "      <td>-2.3</td>\n",
       "    </tr>\n",
       "  </tbody>\n",
       "</table>\n",
       "</div>"
      ],
      "text/plain": [
       "                      Player  Y1-BPM  Predict-Y2-BPM\n",
       "0            De'Andre Hunter    -4.7            -2.7\n",
       "1                  Ja Morant     0.2             1.0\n",
       "2             Darius Garland    -5.6            -2.5\n",
       "3            P.J. Washington    -1.6            -1.5\n",
       "4                 RJ Barrett    -4.3            -2.4\n",
       "5                 Coby White    -2.8            -2.0\n",
       "6              Eric Paschall    -2.7            -1.3\n",
       "7                Cam Reddish    -4.2            -2.9\n",
       "8             Jarrett Culver    -4.0            -2.8\n",
       "9                Tyler Herro    -2.2            -2.1\n",
       "10             Rui Hachimura    -3.1            -1.8\n",
       "11              Jordan Poole    -6.6            -3.1\n",
       "12            Brandon Clarke     3.4             1.1\n",
       "13              Kevin Porter    -3.7            -1.8\n",
       "14          Matisse Thybulle     0.1            -2.9\n",
       "15           Cameron Johnson     0.0            -1.8\n",
       "16              Jaxson Hayes    -0.1             0.8\n",
       "17            Grant Williams    -2.7            -2.3\n",
       "18             Darius Bazley    -2.3            -2.6\n",
       "19               Cody Martin    -2.1            -1.8\n",
       "20           Sekou Doumbouya    -6.7            -3.7\n",
       "21            Bruno Fernando    -4.1            -0.7\n",
       "22           Zion Williamson     2.0             0.1\n",
       "23            Daniel Gafford    -1.3             0.5\n",
       "24             Nassir Little    -3.5            -2.6\n",
       "25  Nickeil Alexander-Walker    -4.0            -1.5\n",
       "26              Goga Bitadze    -2.5            -0.8\n",
       "27         Admiral Schofield    -5.8            -3.4\n",
       "28            Carsen Edwards    -4.9            -3.5\n",
       "29                 Ty Jerome    -3.8            -2.4\n",
       "30            Romeo Langford    -4.6            -4.4\n",
       "31           Jalen McDaniels    -3.3            -1.5\n",
       "32              Terance Mann    -3.4            -2.1\n",
       "33              Justin James    -0.7            -2.3"
      ]
     },
     "execution_count": 10,
     "metadata": {},
     "output_type": "execute_result"
    }
   ],
   "source": [
    "predict_df_clean = predict_df.filter(['Player','Y1-BPM','Predict-Y2-BPM'])\n",
    "\n",
    "predict_df_clean.round(1)"
   ]
  },
  {
   "cell_type": "code",
   "execution_count": null,
   "metadata": {},
   "outputs": [],
   "source": []
  }
 ],
 "metadata": {
  "celltoolbar": "Create Assignment",
  "kernelspec": {
   "display_name": "Python 3",
   "language": "python",
   "name": "python3"
  },
  "language_info": {
   "codemirror_mode": {
    "name": "ipython",
    "version": 3
   },
   "file_extension": ".py",
   "mimetype": "text/x-python",
   "name": "python",
   "nbconvert_exporter": "python",
   "pygments_lexer": "ipython3",
   "version": "3.7.4"
  },
  "varInspector": {
   "cols": {
    "lenName": 16,
    "lenType": 16,
    "lenVar": 40
   },
   "kernels_config": {
    "python": {
     "delete_cmd_postfix": "",
     "delete_cmd_prefix": "del ",
     "library": "var_list.py",
     "varRefreshCmd": "print(var_dic_list())"
    },
    "r": {
     "delete_cmd_postfix": ") ",
     "delete_cmd_prefix": "rm(",
     "library": "var_list.r",
     "varRefreshCmd": "cat(var_dic_list()) "
    }
   },
   "types_to_exclude": [
    "module",
    "function",
    "builtin_function_or_method",
    "instance",
    "_Feature"
   ],
   "window_display": false
  }
 },
 "nbformat": 4,
 "nbformat_minor": 2
}
